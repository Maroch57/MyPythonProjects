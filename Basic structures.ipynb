{
 "cells": [
  {
   "cell_type": "markdown",
   "id": "9cba9a8e",
   "metadata": {},
   "source": [
    "Basic Structures: Variables, Data Types and Operators."
   ]
  },
  {
   "cell_type": "markdown",
   "id": "dd3e9fa2",
   "metadata": {},
   "source": [
    "What is a variable? \n",
    "\n",
    "A variable is a named container for storing data."
   ]
  },
  {
   "cell_type": "markdown",
   "id": "8be09e8a",
   "metadata": {},
   "source": [
    "Basic structures"
   ]
  },
  {
   "cell_type": "code",
   "execution_count": 1,
   "id": "0f02b5b2",
   "metadata": {},
   "outputs": [
    {
     "name": "stdout",
     "output_type": "stream",
     "text": [
      "Name: John\n",
      "Age: 30\n",
      "Height: 5.9\n",
      "Is Student: False\n"
     ]
    }
   ],
   "source": [
    "#Different types of variables in python\n",
    "name = \"John\"  # String variable\n",
    "age = 30       # Integer variable\n",
    "height = 5.9   # Float variable\n",
    "is_student = False  # Boolean variable\n",
    "\n",
    "# Printing the variables\n",
    "print(\"Name:\", name)\n",
    "print(\"Age:\", age)\n",
    "print(\"Height:\", height)\n",
    "print(\"Is Student:\", is_student)"
   ]
  },
  {
   "cell_type": "markdown",
   "id": "0a570abc",
   "metadata": {},
   "source": [
    "DATA TYPES\n",
    "\n",
    "* Integers(int) - Whole numbers e.g 1, 42 or -7\n",
    "* Floating-point numbers(float) - Decimal numbers e.g. 3.142, -0.5, or 2.0\n",
    "* String(str) - Text enclosed in quotes e.g. \"Hello, world!\" or 'Python'\n",
    "* Booleans(bool) - Logical values representing True or False"
   ]
  },
  {
   "cell_type": "code",
   "execution_count": 1,
   "id": "7e757357",
   "metadata": {},
   "outputs": [
    {
     "name": "stdout",
     "output_type": "stream",
     "text": [
      "<class 'int'>\n"
     ]
    }
   ],
   "source": [
    "#Integer\n",
    "age = 25\n",
    "print(type(age))  # Output: <class 'int'>   "
   ]
  },
  {
   "cell_type": "code",
   "execution_count": 2,
   "id": "bdc437a2",
   "metadata": {},
   "outputs": [
    {
     "name": "stdout",
     "output_type": "stream",
     "text": [
      "<class 'float'>\n"
     ]
    }
   ],
   "source": [
    "#Float\n",
    "height = 5.9\n",
    "print(type(height))  # Output: <class 'float'>"
   ]
  },
  {
   "cell_type": "code",
   "execution_count": 4,
   "id": "ba83f42c",
   "metadata": {},
   "outputs": [
    {
     "name": "stdout",
     "output_type": "stream",
     "text": [
      "<class 'str'>\n"
     ]
    }
   ],
   "source": [
    "#String\n",
    "name = \"Alice\"\n",
    "print(type(name))  # Output: <class 'str'>"
   ]
  },
  {
   "cell_type": "code",
   "execution_count": 5,
   "id": "3e36ae9b",
   "metadata": {},
   "outputs": [
    {
     "name": "stdout",
     "output_type": "stream",
     "text": [
      "<class 'bool'>\n"
     ]
    }
   ],
   "source": [
    "#Boolean\n",
    "is_student = True\n",
    "print(type(is_student))  # Output: <class 'bool'>"
   ]
  }
 ],
 "metadata": {
  "kernelspec": {
   "display_name": "Python 3",
   "language": "python",
   "name": "python3"
  },
  "language_info": {
   "codemirror_mode": {
    "name": "ipython",
    "version": 3
   },
   "file_extension": ".py",
   "mimetype": "text/x-python",
   "name": "python",
   "nbconvert_exporter": "python",
   "pygments_lexer": "ipython3",
   "version": "3.13.7"
  }
 },
 "nbformat": 4,
 "nbformat_minor": 5
}
