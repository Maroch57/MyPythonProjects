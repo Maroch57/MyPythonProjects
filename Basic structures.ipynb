{
 "cells": [
  {
   "cell_type": "markdown",
   "id": "9cba9a8e",
   "metadata": {},
   "source": [
    "Basic Structures: Variables, Data Types and Operators."
   ]
  },
  {
   "cell_type": "markdown",
   "id": "dd3e9fa2",
   "metadata": {},
   "source": [
    "What is a variable? \n",
    "\n",
    "A variable is a named container for storing data."
   ]
  },
  {
   "cell_type": "markdown",
   "id": "8be09e8a",
   "metadata": {},
   "source": [
    "Basic structures"
   ]
  },
  {
   "cell_type": "code",
   "execution_count": 1,
   "id": "0f02b5b2",
   "metadata": {},
   "outputs": [
    {
     "name": "stdout",
     "output_type": "stream",
     "text": [
      "Name: John\n",
      "Age: 30\n",
      "Height: 5.9\n",
      "Is Student: False\n"
     ]
    }
   ],
   "source": [
    "#Different types of variables in python\n",
    "name = \"John\"  # String variable\n",
    "age = 30       # Integer variable\n",
    "height = 5.9   # Float variable\n",
    "is_student = False  # Boolean variable\n",
    "\n",
    "# Printing the variables\n",
    "print(\"Name:\", name)\n",
    "print(\"Age:\", age)\n",
    "print(\"Height:\", height)\n",
    "print(\"Is Student:\", is_student)"
   ]
  }
 ],
 "metadata": {
  "kernelspec": {
   "display_name": "Python 3",
   "language": "python",
   "name": "python3"
  },
  "language_info": {
   "codemirror_mode": {
    "name": "ipython",
    "version": 3
   },
   "file_extension": ".py",
   "mimetype": "text/x-python",
   "name": "python",
   "nbconvert_exporter": "python",
   "pygments_lexer": "ipython3",
   "version": "3.13.7"
  }
 },
 "nbformat": 4,
 "nbformat_minor": 5
}
