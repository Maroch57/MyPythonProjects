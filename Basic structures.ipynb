{
 "cells": [
  {
   "cell_type": "markdown",
   "id": "9cba9a8e",
   "metadata": {},
   "source": [
    "Basic Structures: Variables, Data Types and Operators."
   ]
  },
  {
   "cell_type": "markdown",
   "id": "dd3e9fa2",
   "metadata": {},
   "source": [
    "What is a variable? \n",
    "\n",
    "A variable is a named container for storing data."
   ]
  },
  {
   "cell_type": "markdown",
   "id": "8be09e8a",
   "metadata": {},
   "source": [
    "Basic structures"
   ]
  },
  {
   "cell_type": "code",
   "execution_count": 4,
   "id": "0f02b5b2",
   "metadata": {},
   "outputs": [
    {
     "name": "stdout",
     "output_type": "stream",
     "text": [
      "Name: John\n",
      "Age: 30\n",
      "Height: 5.9\n",
      "Is Student: False\n"
     ]
    }
   ],
   "source": [
    "#Different types of variables in python\n",
    "name = \"John\"  # String variable\n",
    "age = 30       # Integer variable\n",
    "height = 5.9   # Float variable\n",
    "is_student = False  # Boolean variable\n",
    "\n",
    "# Printing the variables\n",
    "print(\"Name:\", name)\n",
    "print(\"Age:\", age)\n",
    "print(\"Height:\", height)\n",
    "print(\"Is Student:\", is_student)"
   ]
  },
  {
   "cell_type": "markdown",
   "id": "0a570abc",
   "metadata": {},
   "source": [
    "DATA TYPES\n",
    "\n",
    "* Integers(int) - Whole numbers e.g 1, 42 or -7\n",
    "* Floating-point numbers(float) - Decimal numbers e.g. 3.142, -0.5, or 2.0\n",
    "* String(str) - Text enclosed in quotes e.g. \"Hello, world!\" or 'Python'\n",
    "* Booleans(bool) - Logical values representing True or False"
   ]
  },
  {
   "cell_type": "code",
   "execution_count": 5,
   "id": "7e757357",
   "metadata": {},
   "outputs": [
    {
     "name": "stdout",
     "output_type": "stream",
     "text": [
      "<class 'int'>\n"
     ]
    }
   ],
   "source": [
    "#Integer\n",
    "age = 25\n",
    "print(type(age))  # Output: <class 'int'>   "
   ]
  },
  {
   "cell_type": "code",
   "execution_count": 6,
   "id": "bdc437a2",
   "metadata": {},
   "outputs": [
    {
     "name": "stdout",
     "output_type": "stream",
     "text": [
      "<class 'float'>\n"
     ]
    }
   ],
   "source": [
    "#Float\n",
    "height = 5.9\n",
    "print(type(height))  # Output: <class 'float'>"
   ]
  },
  {
   "cell_type": "code",
   "execution_count": 7,
   "id": "ba83f42c",
   "metadata": {},
   "outputs": [
    {
     "name": "stdout",
     "output_type": "stream",
     "text": [
      "<class 'str'>\n"
     ]
    }
   ],
   "source": [
    "#String\n",
    "name = \"Alice\"\n",
    "print(type(name))  # Output: <class 'str'>"
   ]
  },
  {
   "cell_type": "code",
   "execution_count": 22,
   "id": "3e36ae9b",
   "metadata": {},
   "outputs": [
    {
     "name": "stdout",
     "output_type": "stream",
     "text": [
      "<class 'bool'>\n"
     ]
    }
   ],
   "source": [
    "#Boolean\n",
    "is_student = False\n",
    "print(type(is_student))  # Output: <class 'bool'>"
   ]
  },
  {
   "cell_type": "markdown",
   "id": "19d13c69",
   "metadata": {},
   "source": [
    "TYPE CONVERSION"
   ]
  },
  {
   "cell_type": "code",
   "execution_count": null,
   "id": "3db45cf1",
   "metadata": {},
   "outputs": [
    {
     "name": "stdout",
     "output_type": "stream",
     "text": [
      "\n",
      "Converting Data types:\n",
      "Age as a string: 25 \n",
      "(Type: <class 'str'> )\n",
      "height as an integer: 5 \n",
      "(Type: <class 'int'> )\n",
      "Boolean as integer: 1 \n",
      "(Type: <class 'bool'> )\n"
     ]
    }
   ],
   "source": []
  },
  {
   "cell_type": "code",
   "execution_count": null,
   "id": "d7e8e4f2",
   "metadata": {},
   "outputs": [
    {
     "name": "stdout",
     "output_type": "stream",
     "text": [
      "\n",
      "Converting Data types:\n",
      "Age as a string: 25 \n",
      "(Type: <class 'str'> )\n",
      "height as an integer: 5 \n",
      "(Type: <class 'int'> )\n",
      "Boolean as integer: 0 \n",
      "(Type: <class 'int'> )\n"
     ]
    }
   ],
   "source": [
    "\n",
    "print(\"\\nConverting Data types:\")\n",
    "age_str = str(age) #converts int to string\n",
    "height_int = int(height) #converts float to int -> Truncate the number\n",
    "is_student_int = int(is_student) #converts boolean into an int\n",
    "\n",
    "\n",
    "print(\"Age as a string:\", age_str, \"\\n(Type:\", type(age_str), \")\")\n",
    "print(\"height as an integer:\", height_int, \"\\n(Type:\", type(height_int), \")\")\n",
    "print(\"Boolean as integer:\", is_student_int, \"\\n(Type:\", type(is_student_int), \")\")"
   ]
  },
  {
   "cell_type": "markdown",
   "id": "de4be660",
   "metadata": {},
   "source": [
    "OPERATORS IN PYTHON"
   ]
  },
  {
   "cell_type": "code",
   "execution_count": 53,
   "id": "b0499a96",
   "metadata": {},
   "outputs": [
    {
     "name": "stdout",
     "output_type": "stream",
     "text": [
      "\n",
      "ARITHMETIC OPERATORS\n",
      "Addition: 12\n",
      "Subtraction: 2\n",
      "multiplication: 35\n",
      "division: 1.4\n",
      "Floor division: 1\n",
      "modulus(remainder): 2\n",
      "Exponentiation: 16807\n",
      "\n",
      "COMPARISON OPERATORS\n",
      "a is greater than b: True\n",
      "a is less than b: False\n",
      "a is greater than or equal to b: True\n",
      "a is less than or equal to b: False\n",
      "a is equal to b: False\n",
      "a is not equal to b: True\n",
      "\n",
      "LOGICAL OPERATORS\n",
      "True\n",
      "False\n"
     ]
    }
   ],
   "source": [
    "print(\"\\nARITHMETIC OPERATORS\")\n",
    "a = 7\n",
    "b = 5\n",
    "print(\"Addition:\", a + b)\n",
    "print(\"Subtraction:\", a - b)\n",
    "print(\"multiplication:\", a * b)\n",
    "print(\"division:\", a / b)\n",
    "print(\"Floor division:\", a // b)\n",
    "print(\"modulus(remainder):\", a % b)\n",
    "print(\"Exponentiation:\", a ** b)\n",
    "\n",
    "print(\"\\nCOMPARISON OPERATORS\")\n",
    "print(\"a is greater than b:\", a > b)\n",
    "print(\"a is less than b:\", a < b)\n",
    "print(\"a is greater than or equal to b:\", a >= b)\n",
    "print(\"a is less than or equal to b:\", a <= b)\n",
    "print(\"a is equal to b:\", a == b)\n",
    "print(\"a is not equal to b:\", a != b)\n",
    "\n",
    "print(\"\\nLOGICAL OPERATORS\")\n",
    "print(a > b and a < 10)\n",
    "print(a < b or a < 6 )"
   ]
  },
  {
   "cell_type": "markdown",
   "id": "ed754f0b",
   "metadata": {},
   "source": []
  }
 ],
 "metadata": {
  "kernelspec": {
   "display_name": "Python 3",
   "language": "python",
   "name": "python3"
  },
  "language_info": {
   "codemirror_mode": {
    "name": "ipython",
    "version": 3
   },
   "file_extension": ".py",
   "mimetype": "text/x-python",
   "name": "python",
   "nbconvert_exporter": "python",
   "pygments_lexer": "ipython3",
   "version": "3.13.7"
  }
 },
 "nbformat": 4,
 "nbformat_minor": 5
}
