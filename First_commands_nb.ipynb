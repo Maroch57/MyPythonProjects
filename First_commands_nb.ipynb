{
 "cells": [
  {
   "cell_type": "markdown",
   "id": "1cd4f5af",
   "metadata": {},
   "source": [
    "First Commands"
   ]
  },
  {
   "cell_type": "code",
   "execution_count": 10,
   "id": "8d6c4ff7",
   "metadata": {},
   "outputs": [
    {
     "name": "stdout",
     "output_type": "stream",
     "text": [
      "Hello, world\n"
     ]
    }
   ],
   "source": [
    "print('Hello, world')"
   ]
  },
  {
   "cell_type": "markdown",
   "id": "6dc6dc88",
   "metadata": {},
   "source": [
    "Defining Variables"
   ]
  },
  {
   "cell_type": "code",
   "execution_count": 22,
   "id": "55163487",
   "metadata": {},
   "outputs": [
    {
     "name": "stdout",
     "output_type": "stream",
     "text": [
      "My name is James\n"
     ]
    }
   ],
   "source": [
    "name = 'James'\n",
    "print('My name is', name)"
   ]
  },
  {
   "cell_type": "code",
   "execution_count": 23,
   "id": "cf5caaa1",
   "metadata": {},
   "outputs": [
    {
     "name": "stdout",
     "output_type": "stream",
     "text": [
      "My name is James. I am 28 and I am a Python Developer.\n"
     ]
    }
   ],
   "source": [
    "age = 28\n",
    "job = 'Python Developer'\n",
    "\n",
    "print(f'My name is {name}. I am {age} and I am a {job}.')"
   ]
  },
  {
   "cell_type": "markdown",
   "id": "b9b572e2",
   "metadata": {},
   "source": [
    "Self Try Section"
   ]
  },
  {
   "cell_type": "code",
   "execution_count": 21,
   "id": "24504914",
   "metadata": {},
   "outputs": [
    {
     "name": "stdout",
     "output_type": "stream",
     "text": [
      "My name is Jahath. I am a 25 year old Software Engineer in the making living in Nairobi.\n"
     ]
    }
   ],
   "source": [
    "name = 'Jahath'\n",
    "city = 'Nairobi'\n",
    "age = 25\n",
    "occupation = 'Software Engineer in the making'\n",
    "print(f'My name is {name}. I am a {age} year old {occupation} living in {city}.')"
   ]
  }
 ],
 "metadata": {
  "kernelspec": {
   "display_name": "Python 3",
   "language": "python",
   "name": "python3"
  },
  "language_info": {
   "codemirror_mode": {
    "name": "ipython",
    "version": 3
   },
   "file_extension": ".py",
   "mimetype": "text/x-python",
   "name": "python",
   "nbconvert_exporter": "python",
   "pygments_lexer": "ipython3",
   "version": "3.13.7"
  }
 },
 "nbformat": 4,
 "nbformat_minor": 5
}
