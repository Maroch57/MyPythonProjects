{
 "cells": [
  {
   "cell_type": "markdown",
   "id": "c4f9c16a",
   "metadata": {},
   "source": [
    "CONDITIONAL STATEMENTS\n",
    "\n",
    "IF, ELIF, ELSE STATEMENTS"
   ]
  },
  {
   "cell_type": "markdown",
   "id": "a3dffd20",
   "metadata": {},
   "source": [
    "IF STATEMENT\n",
    "\n",
    "Executes a certain block of code only if a certain condition is True\n"
   ]
  },
  {
   "cell_type": "code",
   "execution_count": 3,
   "id": "bfc19fc4",
   "metadata": {},
   "outputs": [
    {
     "name": "stdout",
     "output_type": "stream",
     "text": [
      "You are an adult.\n",
      "You can travel alone.\n"
     ]
    }
   ],
   "source": [
    "#Basic if statement\n",
    "x = 19\n",
    "\n",
    "if x >= 18:\n",
    "    print(\"You are an adult.\")\n",
    "\n",
    "    print(\"You can travel alone.\")"
   ]
  }
 ],
 "metadata": {
  "kernelspec": {
   "display_name": "Python 3",
   "language": "python",
   "name": "python3"
  },
  "language_info": {
   "codemirror_mode": {
    "name": "ipython",
    "version": 3
   },
   "file_extension": ".py",
   "mimetype": "text/x-python",
   "name": "python",
   "nbconvert_exporter": "python",
   "pygments_lexer": "ipython3",
   "version": "3.13.7"
  }
 },
 "nbformat": 4,
 "nbformat_minor": 5
}
