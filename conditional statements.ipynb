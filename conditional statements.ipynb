{
 "cells": [
  {
   "cell_type": "markdown",
   "id": "c4f9c16a",
   "metadata": {},
   "source": [
    "CONDITIONAL STATEMENTS\n",
    "\n",
    "IF, ELIF, ELSE STATEMENTS"
   ]
  },
  {
   "cell_type": "markdown",
   "id": "a3dffd20",
   "metadata": {},
   "source": [
    "IF STATEMENT\n",
    "\n",
    "Executes a certain block of code only if a certain condition is True\n"
   ]
  },
  {
   "cell_type": "code",
   "execution_count": 7,
   "id": "bfc19fc4",
   "metadata": {},
   "outputs": [
    {
     "name": "stdout",
     "output_type": "stream",
     "text": [
      "You are an adult.\n",
      "You can travel alone.\n",
      "This line is not part of the if statement.\n"
     ]
    }
   ],
   "source": [
    "#Basic if statement\n",
    "x = 26\n",
    "\n",
    "if x >= 18:\n",
    "    print(\"You are an adult.\")\n",
    "\n",
    "    print(\"You can travel alone.\")\n",
    "\n",
    "print(\"This line is not part of the if statement.\")"
   ]
  },
  {
   "cell_type": "markdown",
   "id": "f4787372",
   "metadata": {},
   "source": [
    "IF-ELSE STATEMENT\n",
    "\n",
    "Provides an alternative for another block of code to execute when the condition is false."
   ]
  },
  {
   "cell_type": "code",
   "execution_count": 16,
   "id": "8f5f1aa8",
   "metadata": {},
   "outputs": [
    {
     "name": "stdout",
     "output_type": "stream",
     "text": [
      "It's a hot day.\n",
      "Drink plenty of water.\n"
     ]
    }
   ],
   "source": [
    "#if-else statement\n",
    "temperature = 46\n",
    "\n",
    "if temperature > 30:\n",
    "    print(\"It's a hot day.\")\n",
    "    print(\"Drink plenty of water.\") \n",
    "else:\n",
    "    print(\"It's not a hot day.\")\n",
    "    "
   ]
  },
  {
   "cell_type": "markdown",
   "id": "e954a427",
   "metadata": {},
   "source": [
    "    IF-ELIF-ELSE STATEMENT\n",
    "\n",
    "    The if-elif-else statement allows you to check multiple conditions."
   ]
  },
  {
   "cell_type": "code",
   "execution_count": null,
   "id": "79bef098",
   "metadata": {},
   "outputs": [
    {
     "name": "stdout",
     "output_type": "stream",
     "text": [
      "You got a B.\n"
     ]
    }
   ],
   "source": [
    "#if-elif-else statement\n",
    "score = 85\n",
    "\n",
    "if score >= 90:\n",
    "    print(\"You got an A.\")\n",
    "elif score >= 80:\n",
    "    print(\"You got a B.\")\n",
    "elif score >= 70:\n",
    "    print(\"You got a C.\")\n",
    "elif score >= 60:\n",
    "    print(\"You got a D.\")\n",
    "else:\n",
    "    print(\"You got an F.\")"
   ]
  },
  {
   "cell_type": "markdown",
   "id": "ebf1c00e",
   "metadata": {},
   "source": [
    "NESTED CONDITIONAL STATEMENT\n",
    "\n",
    "You can nest conditional statements in each other."
   ]
  },
  {
   "cell_type": "code",
   "execution_count": null,
   "id": "1b5a1557",
   "metadata": {},
   "outputs": [
    {
     "name": "stdout",
     "output_type": "stream",
     "text": [
      "You can drive.\n"
     ]
    }
   ],
   "source": [
    "#nested if statements\n",
    "age = 48\n",
    "has_license = 0.01 #0 is False, any no. above 0 i.e 0.0001 is True\n",
    "\n",
    "if age >= 18:\n",
    "    if has_license:\n",
    "        print(\"You can drive.\")\n",
    "    else:\n",
    "        print(\"You need a driver's license to drive.\") \n",
    "\n",
    "else:\n",
    "    print(\"You are too young to drive.\")"
   ]
  },
  {
   "cell_type": "code",
   "execution_count": 11,
   "id": "f60194e4",
   "metadata": {},
   "outputs": [
    {
     "name": "stdout",
     "output_type": "stream",
     "text": [
      "You are eligible to be a trainer.\n",
      "You can train others.\n"
     ]
    }
   ],
   "source": [
    "training_experience = 7\n",
    "trainer = True\n",
    "\n",
    "if training_experience >= 5:\n",
    "    print(\"You are eligible to be a trainer.\")\n",
    "    if trainer:\n",
    "        print(\"You can train others.\")\n",
    "    else:\n",
    "        print(\"You need to be a trainer to train others.\")\n",
    "    \n",
    "else:\n",
    "    print(\"You need more experience to be a trainer.\")\n"
   ]
  },
  {
   "cell_type": "markdown",
   "id": "0b06962f",
   "metadata": {},
   "source": [
    "### Logical operations in conditions\n",
    "\n",
    "- `and` : Both conditions must be true\n",
    "- `or` : Either condition must be true\n",
    "- `not` : Inverts condition (True becomes False and vice versa)"
   ]
  },
  {
   "cell_type": "code",
   "execution_count": 23,
   "id": "fd53a7ae",
   "metadata": {},
   "outputs": [
    {
     "name": "stdout",
     "output_type": "stream",
     "text": [
      "You are eligible for the premium credit card.\n",
      "You are a minor.\n"
     ]
    }
   ],
   "source": [
    "age = 13\n",
    "income = 70000\n",
    "\n",
    "if age >= 18 and income >= 30000:\n",
    "    print(\"You are eligible for the credit card.\")\n",
    "\n",
    "if age >= 30 or income >= 60000:\n",
    "    print(\"You are eligible for the premium credit card.\")\n",
    "\n",
    "if not age < 18:\n",
    "    print(\"You are an adult.\")\n",
    "else:\n",
    "    print(\"You are a minor.\")"
   ]
  },
  {
   "cell_type": "markdown",
   "id": "539844d5",
   "metadata": {},
   "source": [
    "## For loops with range()\n",
    "\n",
    "`for` loops allow you a execute a block ofcode multiple times. When using `range()`the loop iterates over a sequence of numbers\n",
    "\n",
    "### Basic for loop with range()\n",
    "\n",
    "`range()` generates the numbers by default from 0 to the desired number (desired number -1)"
   ]
  },
  {
   "cell_type": "code",
   "execution_count": 18,
   "id": "2e7f5c43",
   "metadata": {},
   "outputs": [
    {
     "name": "stdout",
     "output_type": "stream",
     "text": [
      "Iteration 0\n",
      "Iteration 1\n",
      "Iteration 2\n",
      "Iteration 3\n",
      "Iteration 4\n",
      "Iteration 5\n",
      "Iteration 6\n"
     ]
    }
   ],
   "source": [
    "for i in range(7):\n",
    "    print(f\"Iteration {i}\")"
   ]
  },
  {
   "cell_type": "code",
   "execution_count": 24,
   "id": "98fa410a",
   "metadata": {},
   "outputs": [
    {
     "name": "stdout",
     "output_type": "stream",
     "text": [
      "Number: 0\n",
      "Number: 1\n",
      "Number: 2\n",
      "Number: 3\n",
      "Number: 4\n",
      "Number: 5\n",
      "Number: 6\n"
     ]
    }
   ],
   "source": [
    "for count in range(7):\n",
    "    print(\"Number:\", count)"
   ]
  },
  {
   "cell_type": "markdown",
   "id": "1d44144b",
   "metadata": {},
   "source": [
    "The above loops print numbers from 0 to 6 (7 in total)\n",
    "\n",
    "### Specify start and stop in range()"
   ]
  },
  {
   "cell_type": "code",
   "execution_count": 5,
   "id": "4e041cbd",
   "metadata": {},
   "outputs": [
    {
     "name": "stdout",
     "output_type": "stream",
     "text": [
      "Current number: 3\n",
      "Current number: 4\n",
      "Current number: 5\n",
      "Current number: 6\n",
      "Current number: 7\n"
     ]
    }
   ],
   "source": [
    "#range with start and end values\n",
    "for num in range(3, 8):\n",
    "    print(\"Current number:\", num)"
   ]
  }
 ],
 "metadata": {
  "kernelspec": {
   "display_name": "Python 3",
   "language": "python",
   "name": "python3"
  },
  "language_info": {
   "codemirror_mode": {
    "name": "ipython",
    "version": 3
   },
   "file_extension": ".py",
   "mimetype": "text/x-python",
   "name": "python",
   "nbconvert_exporter": "python",
   "pygments_lexer": "ipython3",
   "version": "3.13.7"
  }
 },
 "nbformat": 4,
 "nbformat_minor": 5
}
