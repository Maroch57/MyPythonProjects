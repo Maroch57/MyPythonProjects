{
 "cells": [
  {
   "cell_type": "markdown",
   "id": "c4f9c16a",
   "metadata": {},
   "source": [
    "CONDITIONAL STATEMENTS\n",
    "\n",
    "IF, ELIF, ELSE STATEMENTS"
   ]
  },
  {
   "cell_type": "markdown",
   "id": "a3dffd20",
   "metadata": {},
   "source": [
    "IF STATEMENT\n",
    "\n",
    "Executes a certain block of code only if a certain condition is True\n"
   ]
  },
  {
   "cell_type": "code",
   "execution_count": null,
   "id": "bfc19fc4",
   "metadata": {},
   "outputs": [
    {
     "name": "stdout",
     "output_type": "stream",
     "text": [
      "You are an adult.\n",
      "You can travel alone.\n",
      "This line is not part of the if statement.\n"
     ]
    }
   ],
   "source": [
    "#Basic if statement\n",
    "x = 26\n",
    "\n",
    "if x >= 18:\n",
    "    print(\"You are an adult.\")\n",
    "\n",
    "    print(\"You can travel alone.\")\n",
    "\n",
    "print(\"This line is not part of the if statement.\")"
   ]
  },
  {
   "cell_type": "markdown",
   "id": "f4787372",
   "metadata": {},
   "source": [
    "IF-ELSE STATEMENT\n",
    "\n",
    "Provides an alternative for another block of code to execute when the condition is false."
   ]
  },
  {
   "cell_type": "code",
   "execution_count": null,
   "id": "8f5f1aa8",
   "metadata": {},
   "outputs": [
    {
     "name": "stdout",
     "output_type": "stream",
     "text": [
      "It's a hot day.\n",
      "Drink plenty of water.\n"
     ]
    }
   ],
   "source": [
    "#if-else statement\n",
    "temperature = 46\n",
    "\n",
    "if temperature > 30:\n",
    "    print(\"It's a hot day.\")\n",
    "    print(\"Drink plenty of water.\") \n",
    "else:\n",
    "    print(\"It's not a hot day.\")\n",
    "    "
   ]
  },
  {
   "cell_type": "markdown",
   "id": "e954a427",
   "metadata": {},
   "source": [
    "    IF-ELIF-ELSE STATEMENT\n",
    "\n",
    "    The if-elif-else statement allows you to check multiple conditions."
   ]
  },
  {
   "cell_type": "code",
   "execution_count": null,
   "id": "79bef098",
   "metadata": {},
   "outputs": [
    {
     "name": "stdout",
     "output_type": "stream",
     "text": [
      "You got a B.\n"
     ]
    }
   ],
   "source": [
    "#if-elif-else statement\n",
    "score = 85\n",
    "\n",
    "if score >= 90:\n",
    "    print(\"You got an A.\")\n",
    "elif score >= 80:\n",
    "    print(\"You got a B.\")\n",
    "elif score >= 70:\n",
    "    print(\"You got a C.\")\n",
    "elif score >= 60:\n",
    "    print(\"You got a D.\")\n",
    "else:\n",
    "    print(\"You got an F.\")"
   ]
  },
  {
   "cell_type": "markdown",
   "id": "ebf1c00e",
   "metadata": {},
   "source": [
    "NESTED CONDITIONAL STATEMENT\n",
    "\n",
    "You can nest conditional statements in each other."
   ]
  },
  {
   "cell_type": "code",
   "execution_count": null,
   "id": "1b5a1557",
   "metadata": {},
   "outputs": [
    {
     "name": "stdout",
     "output_type": "stream",
     "text": [
      "You can drive.\n"
     ]
    }
   ],
   "source": [
    "#nested if statements\n",
    "age = 48\n",
    "has_license = 0.01 #0 is False, any no. above 0 i.e 0.0001 is True\n",
    "\n",
    "if age >= 18:\n",
    "    if has_license:\n",
    "        print(\"You can drive.\")\n",
    "    else:\n",
    "        print(\"You need a driver's license to drive.\") \n",
    "\n",
    "else:\n",
    "    print(\"You are too young to drive.\")"
   ]
  },
  {
   "cell_type": "code",
   "execution_count": null,
   "id": "f60194e4",
   "metadata": {},
   "outputs": [
    {
     "name": "stdout",
     "output_type": "stream",
     "text": [
      "You are eligible to be a trainer.\n",
      "You can train others.\n"
     ]
    }
   ],
   "source": [
    "training_experience = 7\n",
    "trainer = True\n",
    "\n",
    "if training_experience >= 5:\n",
    "    print(\"You are eligible to be a trainer.\")\n",
    "    if trainer:\n",
    "        print(\"You can train others.\")\n",
    "    else:\n",
    "        print(\"You need to be a trainer to train others.\")\n",
    "    \n",
    "else:\n",
    "    print(\"You need more experience to be a trainer.\")\n"
   ]
  },
  {
   "cell_type": "markdown",
   "id": "0b06962f",
   "metadata": {},
   "source": [
    "### Logical operations in conditions\n",
    "\n",
    "- `and` : Both conditions must be true\n",
    "- `or` : Either condition must be true\n",
    "- `not` : Inverts condition (True becomes False and vice versa)"
   ]
  },
  {
   "cell_type": "code",
   "execution_count": null,
   "id": "fd53a7ae",
   "metadata": {},
   "outputs": [
    {
     "name": "stdout",
     "output_type": "stream",
     "text": [
      "You are eligible for the premium credit card.\n",
      "You are a minor.\n"
     ]
    }
   ],
   "source": [
    "age = 13\n",
    "income = 70000\n",
    "\n",
    "if age >= 18 and income >= 30000:\n",
    "    print(\"You are eligible for the credit card.\")\n",
    "\n",
    "if age >= 30 or income >= 60000:\n",
    "    print(\"You are eligible for the premium credit card.\")\n",
    "\n",
    "if not age < 18:\n",
    "    print(\"You are an adult.\")\n",
    "else:\n",
    "    print(\"You are a minor.\")"
   ]
  },
  {
   "cell_type": "markdown",
   "id": "539844d5",
   "metadata": {},
   "source": [
    "## For loops with range()\n",
    "\n",
    "`for` loops allow you a execute a block ofcode multiple times. When using `range()`the loop iterates over a sequence of numbers\n",
    "\n",
    "### Basic for loop with range()\n",
    "\n",
    "`range()` generates the numbers by default from 0 to the desired number (desired number -1)"
   ]
  },
  {
   "cell_type": "code",
   "execution_count": null,
   "id": "2e7f5c43",
   "metadata": {},
   "outputs": [
    {
     "name": "stdout",
     "output_type": "stream",
     "text": [
      "Iteration 0\n",
      "Iteration 1\n",
      "Iteration 2\n",
      "Iteration 3\n",
      "Iteration 4\n",
      "Iteration 5\n",
      "Iteration 6\n"
     ]
    }
   ],
   "source": [
    "for i in range(7):\n",
    "    print(f\"Iteration {i}\")"
   ]
  },
  {
   "cell_type": "code",
   "execution_count": null,
   "id": "98fa410a",
   "metadata": {},
   "outputs": [
    {
     "name": "stdout",
     "output_type": "stream",
     "text": [
      "Number: 0\n",
      "Number: 1\n",
      "Number: 2\n",
      "Number: 3\n",
      "Number: 4\n",
      "Number: 5\n",
      "Number: 6\n"
     ]
    }
   ],
   "source": [
    "for count in range(7):\n",
    "    print(\"Number:\", count)"
   ]
  },
  {
   "cell_type": "markdown",
   "id": "1d44144b",
   "metadata": {},
   "source": [
    "The above loops print numbers from 0 to 6 (7 in total)\n",
    "\n",
    "### Specify start and stop in range()"
   ]
  },
  {
   "cell_type": "code",
   "execution_count": null,
   "id": "4e041cbd",
   "metadata": {},
   "outputs": [
    {
     "name": "stdout",
     "output_type": "stream",
     "text": [
      "Current number: 3\n",
      "Current number: 4\n",
      "Current number: 5\n",
      "Current number: 6\n",
      "Current number: 7\n"
     ]
    }
   ],
   "source": [
    "#range with start and end values\n",
    "for num in range(3, 8):\n",
    "    print(\"Current number:\", num)"
   ]
  },
  {
   "cell_type": "markdown",
   "id": "3368857d",
   "metadata": {},
   "source": [
    "### Specify step (increment value) in range()"
   ]
  },
  {
   "cell_type": "code",
   "execution_count": null,
   "id": "00e9df7d",
   "metadata": {},
   "outputs": [
    {
     "name": "stdout",
     "output_type": "stream",
     "text": [
      "Current number with step: 2\n",
      "Current number with step: 5\n",
      "Current number with step: 8\n",
      "Current number with step: 11\n",
      "Current number with step: 14\n"
     ]
    }
   ],
   "source": [
    "#Range with start, end, and step values\n",
    "for number in range(2, 15, 3):\n",
    "    print(\"Current number with step:\", number)  "
   ]
  },
  {
   "cell_type": "markdown",
   "id": "e67e56d3",
   "metadata": {},
   "source": [
    "### Counting backwards with range()"
   ]
  },
  {
   "cell_type": "code",
   "execution_count": null,
   "id": "1c0afc30",
   "metadata": {},
   "outputs": [
    {
     "name": "stdout",
     "output_type": "stream",
     "text": [
      "Countdown: 10\n",
      "Countdown: 9\n",
      "Countdown: 8\n",
      "Countdown: 7\n",
      "Countdown: 6\n",
      "Countdown: 5\n",
      "Countdown: 4\n",
      "Countdown: 3\n",
      "Countdown: 2\n",
      "Countdown: 1\n",
      "Malizia apo!\n"
     ]
    }
   ],
   "source": [
    "#Counting backwards with range()\n",
    "for n in range(10, 0, -1):\n",
    "    print(f\"Countdown: {n}\")\n",
    "\n",
    "print(\"Malizia apo!\")"
   ]
  },
  {
   "cell_type": "markdown",
   "id": "e15844a7",
   "metadata": {},
   "source": [
    "### Nested For Loops\n",
    "\n",
    "You can nest one `for` loop inside another to create more complex patterns."
   ]
  },
  {
   "cell_type": "code",
   "execution_count": null,
   "id": "8b4a6639",
   "metadata": {},
   "outputs": [
    {
     "name": "stdout",
     "output_type": "stream",
     "text": [
      "Outer loop: 1\n",
      "Inner loop iteration: 1\n",
      "Inner loop iteration: 2\n",
      "Inner loop iteration: 3\n",
      "Outer loop: 2\n",
      "Inner loop iteration: 1\n",
      "Inner loop iteration: 2\n",
      "Inner loop iteration: 3\n",
      "Outer loop: 3\n",
      "Inner loop iteration: 1\n",
      "Inner loop iteration: 2\n",
      "Inner loop iteration: 3\n",
      "Outer loop: 4\n",
      "Inner loop iteration: 1\n",
      "Inner loop iteration: 2\n",
      "Inner loop iteration: 3\n",
      "Outer loop: 5\n",
      "Inner loop iteration: 1\n",
      "Inner loop iteration: 2\n",
      "Inner loop iteration: 3\n"
     ]
    }
   ],
   "source": [
    "for i in range(1, 6):\n",
    "    print(\"Outer loop:\", i)\n",
    "\n",
    "    for j in range(1, 4):\n",
    "        print(\"Inner loop iteration:\", j)"
   ]
  },
  {
   "cell_type": "markdown",
   "id": "956b1358",
   "metadata": {},
   "source": [
    "### Break and continue in For Loops\n",
    "\n",
    "- `break`: Exits the loop immediately.\n",
    "- `continue`: Skips the current iteration and moves to the next one."
   ]
  },
  {
   "cell_type": "code",
   "execution_count": null,
   "id": "ef94d226",
   "metadata": {},
   "outputs": [
    {
     "name": "stdout",
     "output_type": "stream",
     "text": [
      "Current number: 3\n",
      "Current number: 4\n",
      "Current number: 5\n",
      "Current number: 6\n",
      "Breaking the loop at iteration 7\n",
      "\n",
      "\n",
      "Current number: 1\n",
      "Current number: 2\n",
      "Skipping iteration 3\n",
      "Current number: 4\n",
      "Current number: 5\n"
     ]
    }
   ],
   "source": [
    "#break statement in loops\n",
    "for i in range(3, 10):\n",
    "    if i == 7:\n",
    "        print(\"Breaking the loop at iteration 7\")\n",
    "        break\n",
    "    print(\"Current number:\", i)\n",
    "\n",
    "\n",
    "print(\"\\n\")\n",
    "\n",
    "#continue statement in loops\n",
    "for i in range(1, 6):\n",
    "    if i == 3:\n",
    "        print(\"Skipping iteration 3\")\n",
    "        continue\n",
    "    print(\"Current number:\", i)#"
   ]
  },
  {
   "cell_type": "markdown",
   "id": "3fa5b260",
   "metadata": {},
   "source": [
    "### While Loops\n",
    "\n",
    "`while` loops repeat a block of code as long as the specified condition is true"
   ]
  },
  {
   "cell_type": "code",
   "execution_count": null,
   "id": "d963194c",
   "metadata": {},
   "outputs": [
    {
     "name": "stdout",
     "output_type": "stream",
     "text": [
      "Count is: 1\n",
      "Count is: 2\n",
      "Count is: 3\n",
      "Count is: 4\n",
      "Count is: 5\n",
      "Finished counting.\n"
     ]
    }
   ],
   "source": [
    "#basic while loop\n",
    "count = 1\n",
    "\n",
    "while count <= 5:\n",
    "    print(\"Count is:\", count)\n",
    "    count += 1 #dont forget to increment the counter to avoid infinite loop\n",
    "\n",
    "print(\"Finished counting.\")"
   ]
  },
  {
   "cell_type": "markdown",
   "id": "ca307fcf",
   "metadata": {},
   "source": [
    "### Using Break in While Loops\n",
    "\n",
    "You can use `break` to exit a `while` loop based on a condition."
   ]
  },
  {
   "cell_type": "code",
   "execution_count": null,
   "id": "f857f3b8",
   "metadata": {},
   "outputs": [
    {
     "name": "stdout",
     "output_type": "stream",
     "text": [
      "Current number: 1\n",
      "Current number: 2\n",
      "Current number: 3\n",
      "Current number: 4\n",
      "Current number: 5\n",
      "Current number: 6\n",
      "Current number: 7\n",
      "Current number: 8\n",
      "Current number: 9\n",
      "Current number: 10\n",
      "Breaking the loop as number exceeded 10\n"
     ]
    }
   ],
   "source": [
    "number = 1\n",
    "\n",
    "while True: #infinite loop\n",
    "    print(\"Current number:\", number)\n",
    "    number += 1\n",
    "\n",
    "    if number > 10:\n",
    "        print(\"Breaking the loop as number exceeded 10\")\n",
    "        break"
   ]
  },
  {
   "cell_type": "markdown",
   "id": "aa0408e8",
   "metadata": {},
   "source": [
    "### Using continue in While Loops\n",
    "\n",
    "You can use `continue` to skip iterations in a while loop."
   ]
  },
  {
   "cell_type": "code",
   "execution_count": null,
   "id": "d2351659",
   "metadata": {},
   "outputs": [
    {
     "name": "stdout",
     "output_type": "stream",
     "text": [
      "Number: 1\n",
      "Number: 2\n",
      "Skipping number 3\n",
      "Number: 4\n",
      "Number: 5\n"
     ]
    }
   ],
   "source": [
    "#using continue in while loop\n",
    "num = 0\n",
    "while num < 5:\n",
    "    num += 1\n",
    "\n",
    "    if num == 3:\n",
    "        print(\"Skipping number 3\")\n",
    "        continue\n",
    "\n",
    "    print(\"Number:\", num)"
   ]
  },
  {
   "cell_type": "code",
   "execution_count": null,
   "id": "94b5ab34",
   "metadata": {},
   "outputs": [
    {
     "name": "stdout",
     "output_type": "stream",
     "text": [
      "Odd number: 1\n",
      "Odd number: 3\n",
      "Odd number: 5\n",
      "Odd number: 7\n",
      "Odd number: 9\n"
     ]
    }
   ],
   "source": [
    "number  = 0\n",
    "\n",
    "while number < 10:\n",
    "    number += 1\n",
    "\n",
    "    if number % 2 == 0: #check if number is even\n",
    "        continue #skip the even number and continue with next iteration\n",
    "    print(f\"Odd number: {number}\") "
   ]
  },
  {
   "cell_type": "markdown",
   "id": "5c8c4199",
   "metadata": {},
   "source": [
    "### While Loop with else clause\n",
    "\n",
    "A while loop can have an optional `else` clause that executes when the condition becomes `false`"
   ]
  },
  {
   "cell_type": "code",
   "execution_count": null,
   "id": "98e4ef13",
   "metadata": {},
   "outputs": [
    {
     "name": "stdout",
     "output_type": "stream",
     "text": [
      "Counter is: 1\n",
      "Counter is: 2\n",
      "Counter is: 3\n",
      "Counter is: 4\n",
      "Counter is: 5\n",
      "Loop has completed normally (without break).\n"
     ]
    }
   ],
   "source": [
    "#while loop with else clause\n",
    "counter = 1\n",
    "while counter <= 5:\n",
    "    print(f\"Counter is: {counter}\")\n",
    "    counter += 1\n",
    "else:\n",
    "    print(\"Loop has completed normally (without break).\")"
   ]
  },
  {
   "cell_type": "markdown",
   "id": "3bab550e",
   "metadata": {},
   "source": [
    "#### If the while loop is exited via a `break` statement, the `else` block will not execute."
   ]
  },
  {
   "cell_type": "code",
   "execution_count": 4,
   "id": "11ab520e",
   "metadata": {},
   "outputs": [
    {
     "name": "stdout",
     "output_type": "stream",
     "text": [
      "Number is: 1\n",
      "Number is: 2\n",
      "Number is: 3\n",
      "Breaking the loop at number 3\n"
     ]
    }
   ],
   "source": [
    "#while loop with else and break clause\n",
    "num = 1\n",
    "\n",
    "while num <= 5:\n",
    "    print(f\"Number is: {num}\")\n",
    "\n",
    "    if num == 3:\n",
    "        print(\"Breaking the loop at number 3\")\n",
    "        break\n",
    "    num += 1\n",
    "\n",
    "else:\n",
    "    print(\"This won't be printed because the loop was broken.\")\n",
    "\n",
    "    "
   ]
  },
  {
   "cell_type": "markdown",
   "id": "2c438ca1",
   "metadata": {},
   "source": [
    "## Practical Examples\n",
    "\n",
    "### Example 1: Simple Number Guessing Game"
   ]
  },
  {
   "cell_type": "code",
   "execution_count": null,
   "id": "b9b0db16",
   "metadata": {},
   "outputs": [],
   "source": [
    "secret_number = 7\n",
    "guess_count = 0\n",
    "max_guesses = 3\n",
    "\n",
    "while guess_count < max_guesses:\n",
    "    guess = int(input(\"Enter your guess (between 1 and 10): \"))\n",
    "    guess_count += 1\n",
    "\n",
    "    if guess == secret_number:\n",
    "        print(\"Congratulations! You've guessed the correct number.\")\n",
    "        breakp\n",
    "    elif guess < secret_number:\n",
    "        print(\"Too low.\")\n",
    "    else: \n",
    "        print(\"Too high.\")\n",
    "\n",
    "    #Tell the user if they have used all their attempts\n",
    "    guesses_left = max_guesses - guess_count\n",
    "    if guesses_left > 0:\n",
    "        print(f\"You have {guesses_left} guesses left.\")\n",
    "    else:\n",
    "        print(f\"Sorry, you've used all your guesses. The correct number was {secret_number}.\")"
   ]
  },
  {
   "cell_type": "markdown",
   "id": "d18591da",
   "metadata": {},
   "source": [
    "### Example 2: Printing a Pattern"
   ]
  },
  {
   "cell_type": "code",
   "execution_count": 2,
   "id": "271bcbff",
   "metadata": {},
   "outputs": [
    {
     "name": "stdout",
     "output_type": "stream",
     "text": [
      "*\n",
      "**\n",
      "***\n",
      "****\n",
      "*****\n"
     ]
    }
   ],
   "source": [
    "rows = 5\n",
    "\n",
    "for i in range(1, rows + 1):\n",
    "    for j in range(i):\n",
    "        print(\"*\", end=\"\")\n",
    "    print()"
   ]
  }
 ],
 "metadata": {
  "kernelspec": {
   "display_name": "Python 3",
   "language": "python",
   "name": "python3"
  },
  "language_info": {
   "codemirror_mode": {
    "name": "ipython",
    "version": 3
   },
   "file_extension": ".py",
   "mimetype": "text/x-python",
   "name": "python",
   "nbconvert_exporter": "python",
   "pygments_lexer": "ipython3",
   "version": "3.13.7"
  }
 },
 "nbformat": 4,
 "nbformat_minor": 5
}
