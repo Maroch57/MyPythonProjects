{
 "cells": [
  {
   "cell_type": "markdown",
   "id": "c4f9c16a",
   "metadata": {},
   "source": [
    "CONDITIONAL STATEMENTS\n",
    "\n",
    "IF, ELIF, ELSE STATEMENTS"
   ]
  },
  {
   "cell_type": "markdown",
   "id": "a3dffd20",
   "metadata": {},
   "source": [
    "IF STATEMENT\n",
    "\n",
    "Executes a certain block of code only if a certain condition is True\n"
   ]
  },
  {
   "cell_type": "code",
   "execution_count": 7,
   "id": "bfc19fc4",
   "metadata": {},
   "outputs": [
    {
     "name": "stdout",
     "output_type": "stream",
     "text": [
      "You are an adult.\n",
      "You can travel alone.\n",
      "This line is not part of the if statement.\n"
     ]
    }
   ],
   "source": [
    "#Basic if statement\n",
    "x = 26\n",
    "\n",
    "if x >= 18:\n",
    "    print(\"You are an adult.\")\n",
    "\n",
    "    print(\"You can travel alone.\")\n",
    "\n",
    "print(\"This line is not part of the if statement.\")"
   ]
  },
  {
   "cell_type": "markdown",
   "id": "f4787372",
   "metadata": {},
   "source": [
    "IF-ELSE STATEMENT\n",
    "\n",
    "Provides an alternative for another block of code to execute when the condition is false."
   ]
  },
  {
   "cell_type": "code",
   "execution_count": 16,
   "id": "8f5f1aa8",
   "metadata": {},
   "outputs": [
    {
     "name": "stdout",
     "output_type": "stream",
     "text": [
      "It's a hot day.\n",
      "Drink plenty of water.\n"
     ]
    }
   ],
   "source": [
    "#if-else statement\n",
    "temperature = 46\n",
    "\n",
    "if temperature > 30:\n",
    "    print(\"It's a hot day.\")\n",
    "    print(\"Drink plenty of water.\") \n",
    "else:\n",
    "    print(\"It's not a hot day.\")\n",
    "    "
   ]
  },
  {
   "cell_type": "markdown",
   "id": "e954a427",
   "metadata": {},
   "source": [
    "    IF-ELIF-ES STATEMENT\n",
    "\n",
    "    The if-elif-else statement allows you to check multiple conditions."
   ]
  },
  {
   "cell_type": "code",
   "execution_count": null,
   "id": "79bef098",
   "metadata": {},
   "outputs": [
    {
     "name": "stdout",
     "output_type": "stream",
     "text": [
      "You got a B.\n"
     ]
    }
   ],
   "source": [
    "#if-elif-else statement\n",
    "score = 85\n",
    "\n",
    "if score >= 90:\n",
    "    print(\"You got an A.\")\n",
    "elif score >= 80:\n",
    "    print(\"You got a B.\")\n",
    "elif score >= 70:\n",
    "    print(\"You got a C.\")\n",
    "elif score >= 60:\n",
    "    print(\"You got a D.\")\n",
    "else:\n",
    "    print(\"You got an F.\")"
   ]
  }
 ],
 "metadata": {
  "kernelspec": {
   "display_name": "Python 3",
   "language": "python",
   "name": "python3"
  },
  "language_info": {
   "codemirror_mode": {
    "name": "ipython",
    "version": 3
   },
   "file_extension": ".py",
   "mimetype": "text/x-python",
   "name": "python",
   "nbconvert_exporter": "python",
   "pygments_lexer": "ipython3",
   "version": "3.13.7"
  }
 },
 "nbformat": 4,
 "nbformat_minor": 5
}
