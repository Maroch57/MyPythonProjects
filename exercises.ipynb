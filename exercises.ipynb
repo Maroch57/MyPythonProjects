{
 "cells": [
  {
   "cell_type": "markdown",
   "id": "626eb07b",
   "metadata": {},
   "source": [
    "UNDERSTANDING VARIABLES\n",
    "\n",
    "1. Declare three variables: one to store your name, another to store your age and third to store your height in meters. Print all three variables."
   ]
  },
  {
   "cell_type": "code",
   "execution_count": 3,
   "id": "98fbaba5",
   "metadata": {},
   "outputs": [
    {
     "name": "stdout",
     "output_type": "stream",
     "text": [
      "My name: Jahath\n",
      "My age: 25\n",
      "My height: 1.75 meters\n"
     ]
    }
   ],
   "source": [
    "name = 'Jahath'\n",
    "age  = 25\n",
    "height = 1.75 # in meters\n",
    "\n",
    "print(\"My name:\", name)\n",
    "print(\"My age:\", age)\n",
    "print(\"My height:\", height, \"meters\")\n"
   ]
  },
  {
   "cell_type": "code",
   "execution_count": 2,
   "id": "6c2f6784",
   "metadata": {},
   "outputs": [
    {
     "name": "stdout",
     "output_type": "stream",
     "text": [
      "Name: Joel (Type: <class 'str'> )\n",
      "Age: 25 (Type: <class 'int'> )\n",
      "Height: 1.85 Type: <class 'float'>\n",
      "Is he a worker? True (Type: <class 'bool'> )\n"
     ]
    }
   ],
   "source": [
    "name = \"Joel\" \n",
    "age = 25\n",
    "height = 1.85\n",
    "is_worker = True\n",
    "\n",
    "print(\"Name:\", name, \"(Type:\", type(name), \")\")    # Output: Name: Joel (Type: <class 'str'>)\n",
    "print(\"Age:\", age, \"(Type:\", type(age), \")\")     # Output: Age: 25 (Type: <class 'int'>)\n",
    "print(\"Height:\", height, \"Type:\", type(height)) # Output: Height: 1.85 Type: <class 'float'>\n",
    "print(\"Is he a worker?\", is_worker, \"(Type:\", type(is_worker), \")\") # Output: Is he a worker? True (Type: <class 'bool'>)"
   ]
  },
  {
   "cell_type": "markdown",
   "id": "375a0453",
   "metadata": {},
   "source": [
    "DATA TYPES\n",
    "\n",
    "2. Create variables to store the following values\n",
    "* A whole number\n",
    "* A decimal number\n",
    "* A word\n",
    "* A truth value (True/False)\n",
    "\n",
    "Use the type() function to print the data type of each variable"
   ]
  },
  {
   "cell_type": "code",
   "execution_count": 3,
   "id": "3924d875",
   "metadata": {},
   "outputs": [
    {
     "name": "stdout",
     "output_type": "stream",
     "text": [
      "Whole number: <class 'int'>\n",
      "Decimal: <class 'float'>\n",
      "Word: <class 'str'>\n",
      "Truth value: <class 'bool'>\n"
     ]
    }
   ],
   "source": [
    "w_number = 10\n",
    "decimal = 3.14\n",
    "word = \"Good job\"\n",
    "is_true = False\n",
    "\n",
    "print(\"Whole number:\", type(w_number))    # Output: w_number: <class 'int'>\n",
    "print(\"Decimal:\", type(decimal)) # Output: decimal: <class 'float'>\n",
    "print(\"Word:\", type(word))    # Output: word: <class 'str'>\n",
    "print(\"Truth value:\", type(is_true))  # Output: is_true: <class '\n",
    "\n"
   ]
  },
  {
   "cell_type": "markdown",
   "id": "cd30673d",
   "metadata": {},
   "source": []
  }
 ],
 "metadata": {
  "kernelspec": {
   "display_name": "Python 3",
   "language": "python",
   "name": "python3"
  },
  "language_info": {
   "codemirror_mode": {
    "name": "ipython",
    "version": 3
   },
   "file_extension": ".py",
   "mimetype": "text/x-python",
   "name": "python",
   "nbconvert_exporter": "python",
   "pygments_lexer": "ipython3",
   "version": "3.13.7"
  }
 },
 "nbformat": 4,
 "nbformat_minor": 5
}
