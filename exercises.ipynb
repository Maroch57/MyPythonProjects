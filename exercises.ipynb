{
 "cells": [
  {
   "cell_type": "markdown",
   "id": "626eb07b",
   "metadata": {},
   "source": [
    "UNDERSTANDING VARIABLES\n",
    "\n",
    "1. Declare three variables: one to store your name, another to store your age and third to store your height in meters. Print all three variables."
   ]
  },
  {
   "cell_type": "code",
   "execution_count": 3,
   "id": "98fbaba5",
   "metadata": {},
   "outputs": [
    {
     "name": "stdout",
     "output_type": "stream",
     "text": [
      "My name: Jahath\n",
      "My age: 25\n",
      "My height: 1.75 meters\n"
     ]
    }
   ],
   "source": [
    "name = 'Jahath'\n",
    "age  = 25\n",
    "height = 1.75 # in meters\n",
    "\n",
    "print(\"My name:\", name)\n",
    "print(\"My age:\", age)\n",
    "print(\"My height:\", height, \"meters\")\n"
   ]
  },
  {
   "cell_type": "markdown",
   "id": "375a0453",
   "metadata": {},
   "source": [
    "DATA TYPES\n",
    "\n",
    "2. Create variables to store the following values\n",
    "* A whole number\n",
    "* A decimal number\n",
    "* A word\n",
    "* A truth value (True/False)\n",
    "\n",
    "Use the type() function to print the data type of each variable"
   ]
  },
  {
   "cell_type": "code",
   "execution_count": null,
   "id": "6c2f6784",
   "metadata": {},
   "outputs": [
    {
     "name": "stdout",
     "output_type": "stream",
     "text": [
      "Name: Joel (Type: <class 'str'> )\n",
      "<class 'int'>\n",
      "<class 'float'>\n",
      "<class 'bool'>\n"
     ]
    }
   ],
   "source": [
    "name = \"Joel\" \n",
    "age = 25\n",
    "height = 1.85\n",
    "is_worker = True\n",
    "\n",
    "print(\"Name:\", name, \"(Type:\", type(name), \")\")    # Output: Name: Joel (Type: <class 'str'>)\n",
    "print(type(age))         # Output: <class 'int'>\n",
    "print(type(height))      # Output: <class 'float'>\n",
    "print(type(is_worker))   # Output: <class 'bool'>"
   ]
  }
 ],
 "metadata": {
  "kernelspec": {
   "display_name": "Python 3",
   "language": "python",
   "name": "python3"
  },
  "language_info": {
   "codemirror_mode": {
    "name": "ipython",
    "version": 3
   },
   "file_extension": ".py",
   "mimetype": "text/x-python",
   "name": "python",
   "nbconvert_exporter": "python",
   "pygments_lexer": "ipython3",
   "version": "3.13.7"
  }
 },
 "nbformat": 4,
 "nbformat_minor": 5
}
