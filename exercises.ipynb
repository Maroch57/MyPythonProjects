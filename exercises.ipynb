{
 "cells": [
  {
   "cell_type": "markdown",
   "id": "626eb07b",
   "metadata": {},
   "source": [
    "UNDERSTANDING VARIABLES\n",
    "\n",
    "1. Declare three variables: one to store your name, another to store your age and third to store your height in meters. Print all three variables."
   ]
  },
  {
   "cell_type": "code",
   "execution_count": 3,
   "id": "98fbaba5",
   "metadata": {},
   "outputs": [
    {
     "name": "stdout",
     "output_type": "stream",
     "text": [
      "My name: Jahath\n",
      "My age: 25\n",
      "My height: 1.75 meters\n"
     ]
    }
   ],
   "source": [
    "name = 'Jahath'\n",
    "age  = 25\n",
    "height = 1.75 # in meters\n",
    "\n",
    "print(\"My name:\", name)\n",
    "print(\"My age:\", age)\n",
    "print(\"My height:\", height, \"meters\")\n"
   ]
  },
  {
   "cell_type": "code",
   "execution_count": 2,
   "id": "6c2f6784",
   "metadata": {},
   "outputs": [
    {
     "name": "stdout",
     "output_type": "stream",
     "text": [
      "Name: Joel (Type: <class 'str'> )\n",
      "Age: 25 (Type: <class 'int'> )\n",
      "Height: 1.85 Type: <class 'float'>\n",
      "Is he a worker? True (Type: <class 'bool'> )\n"
     ]
    }
   ],
   "source": [
    "name = \"Joel\" \n",
    "age = 25\n",
    "height = 1.85\n",
    "is_worker = True\n",
    "\n",
    "print(\"Name:\", name, \"(Type:\", type(name), \")\")    # Output: Name: Joel (Type: <class 'str'>)\n",
    "print(\"Age:\", age, \"(Type:\", type(age), \")\")     # Output: Age: 25 (Type: <class 'int'>)\n",
    "print(\"Height:\", height, \"Type:\", type(height)) # Output: Height: 1.85 Type: <class 'float'>\n",
    "print(\"Is he a worker?\", is_worker, \"(Type:\", type(is_worker), \")\") # Output: Is he a worker? True (Type: <class 'bool'>)"
   ]
  },
  {
   "cell_type": "markdown",
   "id": "375a0453",
   "metadata": {},
   "source": [
    "DATA TYPES\n",
    "\n",
    "2. Create variables to store the following values\n",
    "* A whole number\n",
    "* A decimal number\n",
    "* A word\n",
    "* A truth value (True/False)\n",
    "\n",
    "Use the type() function to print the data type of each variable"
   ]
  },
  {
   "cell_type": "code",
   "execution_count": 3,
   "id": "3924d875",
   "metadata": {},
   "outputs": [
    {
     "name": "stdout",
     "output_type": "stream",
     "text": [
      "Whole number: <class 'int'>\n",
      "Decimal: <class 'float'>\n",
      "Word: <class 'str'>\n",
      "Truth value: <class 'bool'>\n"
     ]
    }
   ],
   "source": [
    "w_number = 10\n",
    "decimal = 3.14\n",
    "word = \"Good job\"\n",
    "is_true = False\n",
    "\n",
    "print(\"Whole number:\", type(w_number))    # Output: w_number: <class 'int'>\n",
    "print(\"Decimal:\", type(decimal)) # Output: decimal: <class 'float'>\n",
    "print(\"Word:\", type(word))    # Output: word: <class 'str'>\n",
    "print(\"Truth value:\", type(is_true))  # Output: is_true: <class '\n",
    "\n"
   ]
  },
  {
   "cell_type": "markdown",
   "id": "cd30673d",
   "metadata": {},
   "source": [
    "TYPE CONVERSION\n",
    "\n",
    "3. Create a variable with a string value of \"25\", convert it to an integer and a float and print both results."
   ]
  },
  {
   "cell_type": "code",
   "execution_count": 8,
   "id": "57a1361f",
   "metadata": {},
   "outputs": [
    {
     "name": "stdout",
     "output_type": "stream",
     "text": [
      "no_of_apples: 25\n",
      "Type of no_of_apples: <class 'str'>\n",
      "\n",
      "\n",
      "no_of_apples_int: 25 Type: <class 'int'>\n",
      "no_of_apples_float: 25.0 Type: <class 'float'>\n"
     ]
    }
   ],
   "source": [
    "no_of_apples = \"25\"\n",
    "print(\"no_of_apples:\", no_of_apples)\n",
    "print(\"Type of no_of_apples:\", type(no_of_apples))  # Output: Type of no_of_apples: <class 'str'>\n",
    "print(\"\\n\")\n",
    "\n",
    "print(\"no_of_apples_int:\", int(no_of_apples), \"Type:\", type(int(no_of_apples)))  # Output: no_of_apples_int: 25 Type: <class 'int'>\n",
    "print(\"no_of_apples_float:\", float(no_of_apples), \"Type:\", type(float(no_of_apples)))  # Output: no_of_apples_float: 25.0 Type: <class 'float'>\n"
   ]
  },
  {
   "cell_type": "markdown",
   "id": "8890aed9",
   "metadata": {},
   "source": [
    "ARITHMETIC OPERATORS\n",
    "\n",
    "4. Given the variables a = 5 and b = 9, perform and print the results of the following operations:\n",
    "* Addition\n",
    "* Subtraction\n",
    "* Multiplication\n",
    "* Division\n",
    "* Floor Division\n",
    "* Modulus\n",
    "* Exponentiation"
   ]
  },
  {
   "cell_type": "code",
   "execution_count": 9,
   "id": "a57488fd",
   "metadata": {},
   "outputs": [
    {
     "name": "stdout",
     "output_type": "stream",
     "text": [
      "Addition (a + b): 14\n",
      "Subtraction (a - b): -4\n",
      "Multiplication (a * b): 45\n",
      "Division (a / b): 0.5555555555555556\n",
      "Floor Division (a // b): 0\n",
      "Modulus (a % b): 5\n",
      "Exponentiation (a ** b): 1953125\n"
     ]
    }
   ],
   "source": [
    "a = 5\n",
    "b = 9\n",
    "\n",
    "print(\"Addition (a + b):\", a + b) # Output: Addition (a + b): 14\n",
    "print(\"Subtraction (a - b):\", a - b) # Output: Subtraction (a - b): -4\n",
    "print(\"Multiplication (a * b):\", a * b) # Output: Multiplication (a * b): 45\n",
    "print(\"Division (a / b):\", a / b) # Output: Division (a / b): 0.5555555555555556\n",
    "print(\"Floor Division (a // b):\", a // b) # Output: Floor Division (a // b): 0\n",
    "print(\"Modulus (a % b):\", a % b)  # Output: Modulus (a % b): 5\n",
    "print(\"Exponentiation (a ** b):\", a ** b)  # Output: Exponentiation (a ** b): 1953125\n"
   ]
  },
  {
   "cell_type": "markdown",
   "id": "10a3356b",
   "metadata": {},
   "source": []
  }
 ],
 "metadata": {
  "kernelspec": {
   "display_name": "Python 3",
   "language": "python",
   "name": "python3"
  },
  "language_info": {
   "codemirror_mode": {
    "name": "ipython",
    "version": 3
   },
   "file_extension": ".py",
   "mimetype": "text/x-python",
   "name": "python",
   "nbconvert_exporter": "python",
   "pygments_lexer": "ipython3",
   "version": "3.13.7"
  }
 },
 "nbformat": 4,
 "nbformat_minor": 5
}
